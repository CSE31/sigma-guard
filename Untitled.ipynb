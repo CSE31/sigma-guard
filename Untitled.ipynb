{
 "cells": [
  {
   "cell_type": "code",
   "execution_count": 1,
   "id": "a1b27443-bab9-4a4f-9c31-8e2bfd51c3ac",
   "metadata": {},
   "outputs": [],
   "source": [
    "from llm_guard import scan_prompt, scan_output\n",
    "from llm_guard.input_scanners import PromptInjection, Sentiment, Toxicity,  Gibberish\n",
    "import llm_guard.output_scanners as output_scanners\n",
    "from llm_guard.vault import Vault\n",
    "from llm_guard.input_scanners.prompt_injection import MODEL_LAIYER as PROMPT_INJECTION_MODEL\n",
    "from llm_guard.input_scanners.anonymize_helpers import DEBERTA_AI4PRIVACY_v2_CONF\n",
    "\n",
    "\n",
    "\n",
    "\n",
    "def generate_in_metrics(prompt):\n",
    "    input_scanners = [\n",
    "        Toxicity(),\n",
    "        Gibberish(),\n",
    "        PromptInjection(),\n",
    "        Sentiment()\n",
    "    ]\n",
    "    sanitized_prompt, results_valid, results_score, results_arr = scan_prompt(\n",
    "        input_scanners,\n",
    "        prompt,\n",
    "    )\n",
    "    return sanitized_prompt, results_valid, results_score, results_arr\n",
    "'''\n",
    "Output of generate_in_metrics(\"I am a happy person.\")\n",
    "I am a happy person. {'Toxicity': True, 'Gibberish': True, 'PromptInjection': True, 'Sentiment': True} {'Toxicity': 0.0, 'Gibberish': 0.0, 'PromptInjection': 0.0, 'Sentiment': 0.0} [[[{'label': 'toxicity', 'score': 0.00036709525738842785}, {'label': 'male', 'score': 0.00016944888920988888}, {'label': 'female', 'score': 0.0001320019509876147}, {'label': 'christian', 'score': 0.00011156262917211279}, {'label': 'insult', 'score': 0.00011000069935107604}, {'label': 'psychiatric_or_mental_illness', 'score': 0.00010645322618074715}, {'label': 'muslim', 'score': 6.429268250940368e-05}, {'label': 'white', 'score': 4.482348231249489e-05}, {'label': 'jewish', 'score': 3.88558219128754e-05}, {'label': 'black', 'score': 3.078129157074727e-05}, {'label': 'homosexual_gay_or_lesbian', 'score': 2.9541197363869287e-05}, {'label': 'identity_attack', 'score': 2.946523454738781e-05}, {'label': 'threat', 'score': 2.88345599983586e-05}, {'label': 'obscene', 'score': 2.693259739317e-05}, {'label': 'sexual_explicit', 'score': 1.7653041140874848e-05}, {'label': 'severe_toxicity', 'score': 1.1628764013948967e-06}]], [{'label': 'clean', 'score': 0.9489519596099854}], [{'label': 'SAFE', 'score': 0.9999998807907104}], {'neg': 0.0, 'neu': 0.351, 'pos': 0.649, 'compound': 0.5719}]\n",
    "'''\n",
    "\n",
    "def generate_out_metrics(prompt, llm_output):\n",
    "    out_scanners = [\n",
    "        output_scanners.Bias(),\n",
    "        output_scanners.FactualConsistency(),\n",
    "        output_scanners.Gibberish(),\n",
    "        output_scanners.Relevance(),\n",
    "        output_scanners.Sentiment(),\n",
    "        output_scanners.Toxicity(),\n",
    "    ]\n",
    "    sanitized_prompt, results_valid, results_score, results_arr = scan_output(\n",
    "        out_scanners,\n",
    "        prompt,\n",
    "        llm_output\n",
    "    )\n",
    "    return sanitized_prompt, results_valid, results_score, results_arr\n"
   ]
  },
  {
   "cell_type": "code",
   "execution_count": null,
   "id": "dbea290f-3e1b-4a35-a07a-c90adeeba89d",
   "metadata": {},
   "outputs": [
    {
     "name": "stdout",
     "output_type": "stream",
     "text": [
      "\u001b[2m2024-03-05 21:48:50\u001b[0m [\u001b[32m\u001b[1mdebug    \u001b[0m] \u001b[1mInitialized classification model\u001b[0m \u001b[36mdevice\u001b[0m=\u001b[35mdevice(type='cpu')\u001b[0m \u001b[36mmodel\u001b[0m=\u001b[35mvalurank/distilroberta-bias\u001b[0m\n"
     ]
    }
   ],
   "source": [
    "\n",
    "\n",
    "sanitized_prompt, results_valid, results_score, results_arr = generate_out_metrics(\"I am a happy person.\",\"That's wonderful to hear! What brings you joy and happiness in your life?\")\n",
    "print(sanitized_prompt, results_valid, results_score, results_arr)"
   ]
  },
  {
   "cell_type": "code",
   "execution_count": null,
   "id": "d4555027-3ba4-4b76-86c1-ae6c13a991db",
   "metadata": {},
   "outputs": [],
   "source": [
    "\n",
    "sanitized_prompt, results_valid, results_score, results_arr = generate_in_metrics(\"I am a happy person.\")\n",
    "print(sanitized_prompt, results_valid, results_score, results_arr)"
   ]
  },
  {
   "cell_type": "code",
   "execution_count": null,
   "id": "db8360b0-3adc-430a-a995-a7706c9bde84",
   "metadata": {},
   "outputs": [],
   "source": []
  }
 ],
 "metadata": {
  "kernelspec": {
   "display_name": "Python 3 (ipykernel)",
   "language": "python",
   "name": "python3"
  },
  "language_info": {
   "codemirror_mode": {
    "name": "ipython",
    "version": 3
   },
   "file_extension": ".py",
   "mimetype": "text/x-python",
   "name": "python",
   "nbconvert_exporter": "python",
   "pygments_lexer": "ipython3",
   "version": "3.10.12"
  }
 },
 "nbformat": 4,
 "nbformat_minor": 5
}
